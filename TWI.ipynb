{
 "cells": [
  {
   "cell_type": "code",
   "execution_count": 1,
   "metadata": {},
   "outputs": [],
   "source": [
    "import cv2 \n",
    "import numpy as np "
   ]
  },
  {
   "cell_type": "code",
   "execution_count": 3,
   "metadata": {},
   "outputs": [
    {
     "name": "stdout",
     "output_type": "stream",
     "text": [
      "defective\n"
     ]
    }
   ],
   "source": [
    "img_rgb = cv2.imread('Images/4.png')  \n",
    "img_gray = cv2.cvtColor(img_rgb, cv2.COLOR_BGR2GRAY)\n",
    "\n",
    "cv2.imshow('frame',img_rgb)\n",
    "template = cv2.imread('Images/Sample.png',0)\n",
    "  \n",
    "w, h = template.shape[::-1]  \n",
    "res = cv2.matchTemplate(img_gray,template,cv2.TM_CCOEFF_NORMED) \n",
    "  \n",
    "threshold = 0.8\n",
    "\n",
    "loc = np.where( res >= threshold)  \n",
    "\n",
    "flag = 0\n",
    "for pt in zip(*loc[::-1]): \n",
    "    cv2.rectangle(img_rgb, pt, (pt[0] + w, pt[1] + h), (0,0,255), 2) \n",
    "    flag = 1\n",
    "\n",
    "if flag == 1:\n",
    "    print('defective')\n",
    "else:\n",
    "    print('non-defective')\n",
    "\n",
    "cv2.imshow('Detected',img_rgb) \n",
    "cv2.waitKey(0)\n",
    "cv2.destroyAllWindows()"
   ]
  },
  {
   "cell_type": "code",
   "execution_count": null,
   "metadata": {},
   "outputs": [],
   "source": []
  }
 ],
 "metadata": {
  "kernelspec": {
   "display_name": "Python 3",
   "language": "python",
   "name": "python3"
  },
  "language_info": {
   "codemirror_mode": {
    "name": "ipython",
    "version": 3
   },
   "file_extension": ".py",
   "mimetype": "text/x-python",
   "name": "python",
   "nbconvert_exporter": "python",
   "pygments_lexer": "ipython3",
   "version": "3.6.8"
  }
 },
 "nbformat": 4,
 "nbformat_minor": 2
}
