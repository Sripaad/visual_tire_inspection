{
 "cells": [
  {
   "cell_type": "code",
   "execution_count": 1,
   "metadata": {},
   "outputs": [],
   "source": [
    "import cv2\n",
    "import numpy as np"
   ]
  },
  {
   "cell_type": "code",
   "execution_count": 2,
   "metadata": {},
   "outputs": [
    {
     "name": "stdout",
     "output_type": "stream",
     "text": [
      "defective\n"
     ]
    }
   ],
   "source": [
    "frame = cv2.imread('Images/1.png')\n",
    "gray = cv2.cvtColor(frame,cv2.COLOR_BGR2GRAY)\n",
    "\n",
    "_, thresh = cv2.threshold(gray,150,200,0)\n",
    "img, contours, hierarchy = cv2.findContours(thresh,cv2.RETR_TREE,cv2.CHAIN_APPROX_SIMPLE)\n",
    "\n",
    "def big_contour():\n",
    "    big = cv2.contourArea(contours[0])\n",
    "    for contour in contours:\n",
    "        area = cv2.contourArea(contour)\n",
    "        print(area)\n",
    "        if (area>big):\n",
    "            big = area\n",
    "    return big\n",
    "\n",
    "def count_contour():\n",
    "    count = 0\n",
    "    for contour in contours:\n",
    "        count = count + 1\n",
    "    return count\n",
    "\n",
    "cv2.fillPoly(frame,pts=[contours[17]],color=(0,0,0))\n",
    "cv2.fillPoly(frame,pts=[contours[34]],color=(0,0,0))\n",
    "cv2.fillPoly(frame,pts=[contours[44]],color=(0,0,0))\n",
    "\n",
    "gray = cv2.cvtColor(frame,cv2.COLOR_BGR2GRAY)\n",
    "\n",
    "_, thresh = cv2.threshold(gray,165,165,0)\n",
    "img, contours, hierarchy = cv2.findContours(thresh,cv2.RETR_TREE,cv2.CHAIN_APPROX_SIMPLE)\n",
    "cv2.drawContours(frame,contours,-1,(0,255,0),3)\n",
    "\n",
    "count = 0\n",
    "for contour in contours:\n",
    "    count = count + 1\n",
    "\n",
    "if count > 0:\n",
    "    flag = 1\n",
    "else:\n",
    "    flag = 0\n",
    "\n",
    "if flag == 1:\n",
    "    print('defective')\n",
    "else:\n",
    "    print('non-defective')\n",
    "\n",
    "cv2.imshow('frame',frame)\n",
    "cv2.imshow('gray',gray)\n",
    "cv2.imshow('thresh',thresh)\n",
    "cv2.waitKey(0)\n",
    "cv2.destroyAllWindows()"
   ]
  },
  {
   "cell_type": "markdown",
   "metadata": {},
   "source": [
    "## "
   ]
  },
  {
   "cell_type": "code",
   "execution_count": null,
   "metadata": {},
   "outputs": [],
   "source": []
  }
 ],
 "metadata": {
  "kernelspec": {
   "display_name": "Python 3",
   "language": "python",
   "name": "python3"
  },
  "language_info": {
   "codemirror_mode": {
    "name": "ipython",
    "version": 3
   },
   "file_extension": ".py",
   "mimetype": "text/x-python",
   "name": "python",
   "nbconvert_exporter": "python",
   "pygments_lexer": "ipython3",
   "version": "3.6.8"
  }
 },
 "nbformat": 4,
 "nbformat_minor": 2
}
