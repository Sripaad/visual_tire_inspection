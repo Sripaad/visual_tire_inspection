{
 "cells": [
  {
   "cell_type": "code",
   "execution_count": 8,
   "metadata": {},
   "outputs": [],
   "source": [
    "import cv2\n",
    "import numpy as np"
   ]
  },
  {
   "cell_type": "code",
   "execution_count": 50,
   "metadata": {},
   "outputs": [
    {
     "name": "stdout",
     "output_type": "stream",
     "text": [
      "defective\n"
     ]
    }
   ],
   "source": [
    "frame = cv2.imread('5.png')\n",
    "cv2.imshow('initial',frame)\n",
    "gray = cv2.cvtColor(frame,cv2.COLOR_BGR2GRAY)\n",
    "_, thresh = cv2.threshold(gray,150,200,0)\n",
    "img, contours, hierarchy = cv2.findContours(thresh,cv2.RETR_TREE,cv2.CHAIN_APPROX_SIMPLE)\n",
    "cv2.drawContours(frame,contours,-1,(0,255,0),3)\n",
    "\n",
    "height = np.size(frame, 0)\n",
    "width = np.size(frame, 1)\n",
    "img_area = height * width\n",
    "tot = 0\n",
    "i=0\n",
    "for contour in contours:\n",
    "    if i > 0:\n",
    "        area = cv2.contourArea(contour)\n",
    "        img_area = area\n",
    "    elif i > 1:\n",
    "        area = cv2.contourArea(contour)\n",
    "        img_area = img_area - area\n",
    "    i = i + 1\n",
    "\n",
    "height = np.size(frame, 0)\n",
    "width = np.size(frame, 1)\n",
    "\n",
    "if img_area > 60000 and img_area < 50000:\n",
    "    flag = 0\n",
    "else:\n",
    "    flag = 1\n",
    "    \n",
    "if flag == 1:\n",
    "    print('defective')\n",
    "else:\n",
    "    print('non-defective')\n",
    "\n",
    "cv2.imshow('frame',frame)\n",
    "cv2.imshow('gray',gray)\n",
    "cv2.imshow('thresh',thresh)\n",
    "\n",
    "cv2.waitKey(0)\n",
    "cv2.destroyAllWindows()"
   ]
  },
  {
   "cell_type": "code",
   "execution_count": null,
   "metadata": {},
   "outputs": [],
   "source": []
  }
 ],
 "metadata": {
  "kernelspec": {
   "display_name": "Python 3",
   "language": "python",
   "name": "python3"
  },
  "language_info": {
   "codemirror_mode": {
    "name": "ipython",
    "version": 3
   },
   "file_extension": ".py",
   "mimetype": "text/x-python",
   "name": "python",
   "nbconvert_exporter": "python",
   "pygments_lexer": "ipython3",
   "version": "3.6.8"
  }
 },
 "nbformat": 4,
 "nbformat_minor": 2
}
