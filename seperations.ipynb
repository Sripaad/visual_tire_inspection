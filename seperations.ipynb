{
 "cells": [
  {
   "cell_type": "code",
   "execution_count": 1,
   "metadata": {},
   "outputs": [],
   "source": [
    "import cv2\n",
    "import numpy as np"
   ]
  },
  {
   "cell_type": "code",
   "execution_count": 2,
   "metadata": {},
   "outputs": [
    {
     "name": "stdout",
     "output_type": "stream",
     "text": [
      "defective\n"
     ]
    }
   ],
   "source": [
    "frame = cv2.imread('Images/2.png')\n",
    "\n",
    "edges = cv2.Canny(frame,300,150)\n",
    "\n",
    "count = 0\n",
    "\n",
    "for ls in edges:\n",
    "    if 255 in ls:\n",
    "        count = count + 1\n",
    "\n",
    "if count > 79 and count < 81:\n",
    "    flag = 1\n",
    "else:\n",
    "    flag = 0\n",
    "\n",
    "if flag == 1:\n",
    "    print('defective')\n",
    "else:\n",
    "    print('non-defective')\n",
    "\n",
    "cv2.imshow('frame',frame)\n",
    "cv2.imshow('edges',edges)\n",
    "\n",
    "cv2.waitKey(0)\n",
    "cv2.destroyAllWindows()"
   ]
  },
  {
   "cell_type": "code",
   "execution_count": null,
   "metadata": {},
   "outputs": [],
   "source": []
  }
 ],
 "metadata": {
  "kernelspec": {
   "display_name": "Python 3",
   "language": "python",
   "name": "python3"
  },
  "language_info": {
   "codemirror_mode": {
    "name": "ipython",
    "version": 3
   },
   "file_extension": ".py",
   "mimetype": "text/x-python",
   "name": "python",
   "nbconvert_exporter": "python",
   "pygments_lexer": "ipython3",
   "version": "3.6.8"
  }
 },
 "nbformat": 4,
 "nbformat_minor": 2
}
