{
 "cells": [
  {
   "cell_type": "code",
   "execution_count": 10,
   "metadata": {},
   "outputs": [],
   "source": [
    "import cv2\n",
    "import numpy as np"
   ]
  },
  {
   "cell_type": "code",
   "execution_count": 73,
   "metadata": {},
   "outputs": [
    {
     "name": "stdout",
     "output_type": "stream",
     "text": [
      "2452.0\n",
      "defective\n"
     ]
    }
   ],
   "source": [
    "frame = cv2.imread('3.png')\n",
    "\n",
    "edges = cv2.Canny(frame,200,200)\n",
    "gray = cv2.cvtColor(frame,cv2.COLOR_BGR2GRAY)\n",
    "\n",
    "tot_area = 0\n",
    "\n",
    "ret, thresh = cv2.threshold(gray,150,200,0)\n",
    "_,contours,_ = cv2.findContours(thresh,cv2.RETR_TREE,cv2.CHAIN_APPROX_SIMPLE)\n",
    "cv2.drawContours(frame,contours,-1,(0,255,0),3)\n",
    "\n",
    "for contour in contours:\n",
    "    area = cv2.contourArea(contour)\n",
    "    tot_area = tot_area + area\n",
    "\n",
    "print(tot_area)\n",
    "if tot_area > 2000 and tot_area < 2500:\n",
    "    flag = 1\n",
    "else:\n",
    "    flag = 0\n",
    "\n",
    "if flag == 1:\n",
    "    print('defective')\n",
    "else:\n",
    "    print('non-defective')\n",
    "\n",
    "cv2.imshow('frame',frame)\n",
    "cv2.imshow('edges',edges)\n",
    "cv2.imshow('thresh', thresh)\n",
    "\n",
    "cv2.waitKey(0)\n",
    "cv2.destroyAllWindows()"
   ]
  },
  {
   "cell_type": "code",
   "execution_count": null,
   "metadata": {},
   "outputs": [],
   "source": []
  },
  {
   "cell_type": "code",
   "execution_count": null,
   "metadata": {},
   "outputs": [],
   "source": []
  }
 ],
 "metadata": {
  "kernelspec": {
   "display_name": "Python 3",
   "language": "python",
   "name": "python3"
  },
  "language_info": {
   "codemirror_mode": {
    "name": "ipython",
    "version": 3
   },
   "file_extension": ".py",
   "mimetype": "text/x-python",
   "name": "python",
   "nbconvert_exporter": "python",
   "pygments_lexer": "ipython3",
   "version": "3.6.8"
  }
 },
 "nbformat": 4,
 "nbformat_minor": 2
}
